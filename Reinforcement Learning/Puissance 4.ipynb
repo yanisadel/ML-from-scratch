{
 "cells": [
  {
   "cell_type": "code",
   "execution_count": 1,
   "id": "86f4c5f9",
   "metadata": {},
   "outputs": [],
   "source": [
    "import numpy as np"
   ]
  },
  {
   "cell_type": "code",
   "execution_count": 46,
   "id": "294593f3",
   "metadata": {},
   "outputs": [],
   "source": [
    "class Game:\n",
    "    def __init__(self, nb_rows=6, nb_columns=7, nb_players=2):\n",
    "        self.nb_rows = nb_rows\n",
    "        self.nb_columns = nb_columns\n",
    "        self.nb_players = nb_players\n",
    "        self.grid = np.zeros((nb_rows, nb_columns))\n",
    "        self.turn = 0\n",
    "        \n",
    "    def is_legal(self, column):\n",
    "        col_values = self.grid[:, column]\n",
    "        non_zeros, = np.where(col_values == 0)\n",
    "        return not (len(non_zeros) == 0)\n",
    "    \n",
    "    def set_token(self, column):\n",
    "        try:\n",
    "            assert self.is_legal(column)\n",
    "        except:\n",
    "            raise Exception(\"The move is not legal. Column {} is already filled\".format(column))\n",
    "        \n",
    "        row_index = np.where(self.grid[:, column] == 0)[0][0]\n",
    "        player_token = 1\n",
    "        if self.turn == 1:\n",
    "            player_token = -1\n",
    "            \n",
    "        self.grid[row_index][column] = player_token\n",
    "        \n",
    "        self.turn = (self.turn + 1) % self.nb_players\n",
    "        \n",
    "    def won(self, player_id):\n",
    "        token_player = 1\n",
    "        if player_id == 1:\n",
    "            token_player = -1\n",
    "            \n",
    "        for row in range(3, self.nb_rows):\n",
    "            \"\"\"pb il ne faut pas commencer à 3\"\"\"\n",
    "            for column in range(3, self.nb_columns):\n",
    "                current_token = self.grid[row][column]\n",
    "                if current_token == token_player:\n",
    "                    a = True\n",
    "                    for k in range(1, 4):\n",
    "                        if grid[row - k][column] != current_token:\n",
    "                            a = False\n",
    "                    \n",
    "                    if a:\n",
    "                        return True\n",
    "                    \n",
    "                    a = True\n",
    "                    for k in range(1, 4):\n",
    "                        if grid[row][column - k] != current_token:\n",
    "                            a = False\n",
    "                            \n",
    "                    if a:\n",
    "                        return True\n",
    "                            \n",
    "                    a = True\n",
    "                    for k in range(1, 4):\n",
    "                        if grid[row - k][column - k] != current_token:\n",
    "                            a = False\n",
    "                            \n",
    "                    if a:\n",
    "                        return True\n",
    "                    \n",
    "        return False"
   ]
  },
  {
   "cell_type": "code",
   "execution_count": 47,
   "id": "c867964a",
   "metadata": {},
   "outputs": [],
   "source": [
    "game = Game()"
   ]
  },
  {
   "cell_type": "code",
   "execution_count": 48,
   "id": "50532705",
   "metadata": {},
   "outputs": [],
   "source": [
    "game.set_token(0)\n",
    "game.set_token(1)\n",
    "\n",
    "game.set_token(0)\n",
    "game.set_token(1)\n",
    "\n",
    "game.set_token(0)\n",
    "game.set_token(1)\n",
    "\n",
    "game.set_token(0)\n",
    "game.set_token(1)"
   ]
  },
  {
   "cell_type": "code",
   "execution_count": 49,
   "id": "57e65ebe",
   "metadata": {},
   "outputs": [
    {
     "name": "stdout",
     "output_type": "stream",
     "text": [
      "yeah\n",
      "yeah\n",
      "yeah\n",
      "yeah\n",
      "yeah\n",
      "yeah\n",
      "yeah\n",
      "yeah\n",
      "yeah\n",
      "yeah\n",
      "yeah\n",
      "yeah\n"
     ]
    },
    {
     "data": {
      "text/plain": [
       "False"
      ]
     },
     "execution_count": 49,
     "metadata": {},
     "output_type": "execute_result"
    }
   ],
   "source": [
    "game.won(0)"
   ]
  },
  {
   "cell_type": "code",
   "execution_count": null,
   "id": "90d94511",
   "metadata": {},
   "outputs": [],
   "source": []
  }
 ],
 "metadata": {
  "kernelspec": {
   "display_name": "Python 3 (ipykernel)",
   "language": "python",
   "name": "python3"
  },
  "language_info": {
   "codemirror_mode": {
    "name": "ipython",
    "version": 3
   },
   "file_extension": ".py",
   "mimetype": "text/x-python",
   "name": "python",
   "nbconvert_exporter": "python",
   "pygments_lexer": "ipython3",
   "version": "3.9.11"
  }
 },
 "nbformat": 4,
 "nbformat_minor": 5
}
