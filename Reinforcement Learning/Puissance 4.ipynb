{
  "cells": [
    {
      "cell_type": "markdown",
      "id": "b64b9a72",
      "metadata": {
        "id": "b64b9a72"
      },
      "source": [
        "# **Reinforcement learning : Puissance 4**"
      ]
    },
    {
      "cell_type": "markdown",
      "id": "f3144711",
      "metadata": {
        "id": "f3144711"
      },
      "source": [
        "Le but de ce script est d'implémenter un agent capable de jouer au jeu Puissance 4"
      ]
    },
    {
      "cell_type": "code",
      "execution_count": 56,
      "id": "86f4c5f9",
      "metadata": {
        "id": "86f4c5f9"
      },
      "outputs": [],
      "source": [
        "import numpy as np\n",
        "import matplotlib.pyplot as plt"
      ]
    },
    {
      "cell_type": "markdown",
      "id": "e7cc8bc3",
      "metadata": {
        "id": "e7cc8bc3"
      },
      "source": [
        "# 1) Création de l'environnement"
      ]
    },
    {
      "cell_type": "code",
      "source": [
        "NB_ROWS = 6\n",
        "NB_COLUMNS = 7"
      ],
      "metadata": {
        "id": "qdop4Az4ouGJ"
      },
      "id": "qdop4Az4ouGJ",
      "execution_count": 57,
      "outputs": []
    },
    {
      "cell_type": "code",
      "execution_count": 58,
      "id": "294593f3",
      "metadata": {
        "id": "294593f3"
      },
      "outputs": [],
      "source": [
        "class Game:\n",
        "    \"\"\"\n",
        "    Class that describes a game being played\n",
        "    \"\"\"\n",
        "    def __init__(self, nb_rows=6, nb_columns=7, nb_players=2):\n",
        "        self.nb_rows = nb_rows\n",
        "        self.nb_columns = nb_columns\n",
        "        self.nb_players = nb_players\n",
        "        self.grid = np.zeros((nb_rows, nb_columns))\n",
        "        self.turn = 0\n",
        "        self.nb_steps = 0 # Total number of steps in the game\n",
        "        \n",
        "    def is_draw(self):\n",
        "        return self.nb_steps == self.nb_rows*self.nb_columns\n",
        "        \n",
        "    def is_legal(self, column):\n",
        "        # Takes as input a column and return whether it is possible or not to put a token or the column (True or False)\n",
        "        col_values = self.grid[:, column]\n",
        "        non_zeros, = np.where(col_values == 0)\n",
        "        return not (len(non_zeros) == 0)\n",
        "    \n",
        "    def set_token(self, column):\n",
        "        # Takes as input a column, and in the move is legal, put a token in the column\n",
        "        try:\n",
        "            assert self.is_legal(column)\n",
        "        except:\n",
        "            raise Exception(\"The move is not legal. Column {} is already filled\".format(column))\n",
        "        \n",
        "        row_index = np.where(self.grid[:, column] == 0)[0][0]\n",
        "        player_token = 1\n",
        "        if self.turn == 1:\n",
        "            player_token = -1\n",
        "            \n",
        "        self.grid[row_index][column] = player_token\n",
        "        \n",
        "        self.turn = (self.turn + 1) % self.nb_players\n",
        "        self.nb_steps += 1\n",
        "        \n",
        "    def won(self, player_id):\n",
        "        # Return True if the player n°player_id won, False otherwise\n",
        "        token_player = 1\n",
        "        if player_id == 1:\n",
        "            token_player = -1\n",
        "            \n",
        "        for row in range(self.nb_rows):\n",
        "            for column in range(self.nb_columns):\n",
        "                current_token = self.grid[row][column]\n",
        "                if current_token == token_player:\n",
        "                    token_array = token_player*np.ones(3)\n",
        "                    \n",
        "                    if np.array_equal(self.grid[row-3:row, column], token_array):\n",
        "                        return True\n",
        "                    \n",
        "                    elif np.array_equal(self.grid[row, column-3:column], token_array):\n",
        "                        return True\n",
        "                    \n",
        "                    elif np.array_equal(self.grid[row-3:row, column-3:column].diagonal(), token_array):\n",
        "                        return True\n",
        "                    \n",
        "        return False\n",
        "    \n",
        "    def get_observation(self):\n",
        "        # Returns the observation that the agent makes\n",
        "        return self.grid\n",
        "    \n",
        "    def render(self):\n",
        "        # Displays the current state of the game\n",
        "        X = []\n",
        "        Y = []\n",
        "        colors = []\n",
        "        color_player1 = np.array([210, 200, 0]) / 255\n",
        "        color_player2 = np.array([255, 0, 0]) / 255\n",
        "        for row in range(self.nb_rows):\n",
        "            for col in range(self.nb_columns):\n",
        "                token = self.grid[row, col]\n",
        "                if token == 1 or token == -1:\n",
        "                    Y.append(row)\n",
        "                    X.append(col)\n",
        "                    \n",
        "                    if token == 1:\n",
        "                        colors.append(color_player1)\n",
        "                    elif token == -1:\n",
        "                        colors.append(color_player2)\n",
        "                    \n",
        "        plt.scatter(X, Y, color=colors, s=600)\n",
        "        plt.xticks(list(range(-1, self.nb_columns+2)))\n",
        "        plt.yticks(list(range(-1, self.nb_rows+2)))\n",
        "        plt.grid()\n",
        "        plt.show()"
      ]
    },
    {
      "cell_type": "code",
      "execution_count": 59,
      "id": "f84d082b",
      "metadata": {
        "id": "f84d082b"
      },
      "outputs": [],
      "source": [
        "class Env:\n",
        "    \"\"\"\n",
        "    Class that represents the environment in which the agent is. \n",
        "    The agent is going to do multiple games in the environment\n",
        "    \"\"\"\n",
        "    def __init__(self, actions=np.arange(NB_COLUMNS), nb_rows=NB_ROWS, nb_columns=NB_COLUMNS, nb_players=2):\n",
        "        self.nb_rows = nb_rows\n",
        "        self.nb_columns = nb_columns\n",
        "        self.nb_players = nb_players\n",
        "        self.game = Game(nb_rows=nb_rows, nb_columns=nb_columns, nb_players=nb_players)\n",
        "        self.winners = np.array([False, False])\n",
        "        self.actions = actions\n",
        "        self.nb_actions = len(actions)\n",
        "        \n",
        "    def step(self, action):\n",
        "        # Takes an action, which is the index of the column where we want to put a token in\n",
        "\n",
        "        # Tour de l'agent\n",
        "        observation = self.game.get_observation()\n",
        "        self.game.set_token(self.actions[action])\n",
        "        next_observation = self.game.get_observation()\n",
        "        reward = 0\n",
        "        game_finished = False\n",
        "        \n",
        "        if self.game.won(0):\n",
        "            self.winners[0] = True\n",
        "            reward = 1\n",
        "            game_finished = True\n",
        "            \n",
        "        elif self.game.is_draw():\n",
        "            reward = -1\n",
        "            game_finished = True\n",
        "\n",
        "        else:\n",
        "            # Tour du joueur 2\n",
        "            action_environment = np.random.choice([i for i in range(self.nb_actions) if self.game.is_legal(i)])\n",
        "            self.game.set_token(self.actions[action_environment])\n",
        "            next_observation = self.game.get_observation()\n",
        "\n",
        "            if self.game.won(1):\n",
        "                self.winners[1] = True\n",
        "                reward = -10\n",
        "                game_finished = True\n",
        "                \n",
        "            elif self.game.is_draw():\n",
        "                reward = -1\n",
        "                game_finished = True\n",
        "\n",
        "        return observation, reward, next_observation, game_finished\n",
        "\n",
        "\n",
        "    def is_game_finished(self):\n",
        "        return (True in self.winners)\n",
        "    \n",
        "    def reset(self):\n",
        "        self.game = Game(nb_rows=self.nb_rows, nb_columns=self.nb_columns, nb_players=self.nb_players)\n",
        "        self.winners = np.array([False, False])\n",
        "\n",
        "    def get_observation(self):\n",
        "      return self.game.get_observation()\n",
        "\n",
        "    def render(self):\n",
        "      self.game.render()"
      ]
    },
    {
      "cell_type": "markdown",
      "id": "4ce7985a",
      "metadata": {
        "id": "4ce7985a"
      },
      "source": [
        "# 2) Estimateur des valeurs d'actions"
      ]
    },
    {
      "cell_type": "code",
      "execution_count": 60,
      "id": "aff09a17",
      "metadata": {
        "id": "aff09a17"
      },
      "outputs": [],
      "source": [
        "import tensorflow as tf\n",
        "from tensorflow import keras\n",
        "from keras import layers"
      ]
    },
    {
      "cell_type": "code",
      "execution_count": 61,
      "id": "f6d71bbb",
      "metadata": {
        "colab": {
          "base_uri": "https://localhost:8080/"
        },
        "id": "f6d71bbb",
        "outputId": "3bdc3ab6-60c7-4f9a-af48-4c95013074e3"
      },
      "outputs": [
        {
          "output_type": "execute_result",
          "data": {
            "text/plain": [
              "TensorShape([32, 7])"
            ]
          },
          "metadata": {},
          "execution_count": 61
        }
      ],
      "source": [
        "class Estimator(keras.Model):\n",
        "  def __init__(self, nb_rows=NB_ROWS, nb_columns=NB_COLUMNS, nb_actions=NB_COLUMNS):\n",
        "    super().__init__()\n",
        "    self.conv1 = layers.Conv2D(8, (4, 1), padding='same', activation='relu', input_shape=(nb_rows, nb_columns, 1))\n",
        "    self.conv2 = layers.Conv2D(8, (1, 4), padding='same', activation='relu', input_shape=(nb_rows, nb_columns, 1))\n",
        "    self.conv3 = layers.Conv2D(8, (4, 4), padding='same', activation='relu', input_shape=(nb_rows, nb_columns, 1))\n",
        "\n",
        "    self.conv4 = layers.Conv2D(8, (2, 2), padding='same', activation='relu')\n",
        "    self.conv5 = layers.Conv2D(8, (2, 2), activation='relu')\n",
        "    self.flatten = layers.Flatten()\n",
        "    self.pooling = layers.MaxPooling2D((2,2))\n",
        "    self.dense1 = layers.Dense(32, activation='relu')\n",
        "    self.dense2 = layers.Dense(nb_actions, activation='linear')\n",
        "\n",
        "  def call(self, x):\n",
        "    x = tf.expand_dims(x, axis=-1)\n",
        "\n",
        "    x1 = self.conv1(x)\n",
        "    x2 = self.conv2(x)\n",
        "    x3 = self.conv3(x)\n",
        "    \n",
        "    x = tf.concat([x1, x2, x3], axis=-1)\n",
        "    x = self.conv4(x)\n",
        "    \n",
        "    x = self.pooling(x)\n",
        "    x = self.conv5(x)\n",
        "    x = self.flatten(x)\n",
        "    x = self.dense1(x)\n",
        "    x = self.dense2(x)\n",
        "    \n",
        "    return x\n",
        "\n",
        "Q = Estimator()\n",
        "x = tf.random.uniform((32, NB_ROWS, NB_COLUMNS))\n",
        "Q(x).shape"
      ]
    },
    {
      "cell_type": "markdown",
      "source": [
        "# 3) Définition des politiques"
      ],
      "metadata": {
        "id": "vpbKMlthmIdH"
      },
      "id": "vpbKMlthmIdH"
    },
    {
      "cell_type": "code",
      "source": [
        "def set_impossible_actions_to_nan(action_values, illegal_actions):\n",
        "  # Takes an array of action_values for a given observation and a given action, and sets the impossible actions to np.nan, and returns the array\n",
        "  for index in illegal_actions:\n",
        "    action_values[index] = np.nan\n",
        "  \n",
        "  return action_values"
      ],
      "metadata": {
        "id": "jqxQDDpoxDWL"
      },
      "id": "jqxQDDpoxDWL",
      "execution_count": 62,
      "outputs": []
    },
    {
      "cell_type": "code",
      "source": [
        "def avare(Q, observation, illegal_actions, nb_actions=NB_COLUMNS):\n",
        "  action_values = Q(observation).numpy()[0]\n",
        "  action_values = set_impossible_actions_to_nan(action_values, illegal_actions)\n",
        "\n",
        "  return np.nanargmax(action_values)\n",
        "\n",
        "\n",
        "def epsilon_avare(Q, observation, illegal_actions, nb_actions=NB_COLUMNS, epsilon=0.1):\n",
        "  action_values = Q(observation).numpy()[0]\n",
        "  action_values = set_impossible_actions_to_nan(action_values, illegal_actions)\n",
        "\n",
        "  nb_legal_actions = (nb_actions - len(illegal_actions))\n",
        "\n",
        "  p = (epsilon/nb_legal_actions)*np.ones(nb_actions)\n",
        "  p[np.nanargmax(action_values)] += (1 - epsilon)\n",
        "  for index in illegal_actions:\n",
        "    p[index] = 0\n",
        "\n",
        "  return np.random.choice([i for i in range(nb_actions)], p=p)\n",
        "\n",
        "\n",
        "def random(Q, observation, illegal_actions, nb_actions=NB_COLUMNS):\n",
        "  return np.random.choice([i for i in range(nb_actions) if i not in illegal_actions])"
      ],
      "metadata": {
        "id": "8ZI8x2VZmQbI"
      },
      "id": "8ZI8x2VZmQbI",
      "execution_count": 63,
      "outputs": []
    },
    {
      "cell_type": "markdown",
      "source": [
        "# 4) Définition de la mémoire"
      ],
      "metadata": {
        "id": "x3aMvyLUnlKC"
      },
      "id": "x3aMvyLUnlKC"
    },
    {
      "cell_type": "code",
      "source": [
        "class Memory:\n",
        "  def __init__(self):\n",
        "    self.observations = []\n",
        "    self.actions = np.array([])\n",
        "    self.rewards = np.array([])\n",
        "    self.next_observations = []\n",
        "    self.dones = np.array([]) # True if game finished, False otherwise\n",
        "\n",
        "  def remember(self, obs, act, rew, next_obs, done):\n",
        "    self.observations.append(obs)\n",
        "    self.actions = np.append(self.actions, act).astype(np.float32)\n",
        "    self.rewards = np.append(self.rewards, rew).astype(np.float32)\n",
        "    self.next_observations.append(next_obs)\n",
        "    self.dones = np.append(self.dones, done).astype(np.float32)\n",
        "\n",
        "  def sample(self):\n",
        "    return np.array(self.observations), self.actions, self.rewards, np.array(self.next_observations), self.dones\n",
        "\n",
        "  def reset(self):\n",
        "    self.observations = []\n",
        "    self.actions = np.array([])\n",
        "    self.rewards = np.array([])\n",
        "    self.next_observations =  []\n",
        "    self.dones = np.array([])"
      ],
      "metadata": {
        "id": "dbalesS6nnWQ"
      },
      "id": "dbalesS6nnWQ",
      "execution_count": 84,
      "outputs": []
    },
    {
      "cell_type": "markdown",
      "source": [
        "# 5) Agent"
      ],
      "metadata": {
        "id": "PsY9qf8qfY1e"
      },
      "id": "PsY9qf8qfY1e"
    },
    {
      "cell_type": "code",
      "source": [
        "class Agent:\n",
        "    def __init__(self, actions, memory, action_value, learning_rate=1e-3):\n",
        "        self.actions = actions\n",
        "        self.nb_actions = len(actions)\n",
        "        self.memory = memory\n",
        "        self.action_value = action_value\n",
        "        self.optimizer = optimizer\n",
        "\n",
        "    def act(self, observation, illegal_actions, training=False):\n",
        "        global action\n",
        "        observation = tf.expand_dims(observation, axis=0)\n",
        "        if training:\n",
        "            action = epsilon_avare(self.action_value, observation, illegal_actions=illegal_actions, epsilon=0.8)\n",
        "        else:\n",
        "            action = avare(self.action_value, observation, illegal_actions=illegal_actions)\n",
        "\n",
        "        return action\n",
        "\n",
        "    def learn(self, gamma=0.99, batch_size=32):\n",
        "        agent_observations, agent_actions, agent_rewards, agent_next_observations, agent_dones = self.memory.sample()\n",
        "        train_ds = tf.data.Dataset.from_tensor_slices(\n",
        "          (agent_observations, agent_actions, agent_rewards, agent_next_observations, agent_dones)).shuffle(10000).batch(batch_size)\n",
        "        \n",
        "        for observations, actions, rewards, next_observations, dones in train_ds:\n",
        "            with tf.GradientTape() as tape:\n",
        "                q = self.action_value(observations, training=True)\n",
        "\n",
        "                G_current = tf.convert_to_tensor([q[i][int(act)] for i, act in enumerate(actions)])\n",
        "                max_Q_next_obs = np.argmax(self.action_value(next_observations, training=True), axis=1)\n",
        "\n",
        "                G_next = tf.cast((1-dones)*max_Q_next_obs, tf.float32)\n",
        "\n",
        "                loss = tf.math.reduce_sum((G_current - (rewards + G_next))**2)\n",
        "                gradients = tape.gradient(loss, self.action_value.trainable_variables)\n",
        "                self.optimizer.apply_gradients(zip(gradients, self.action_value.trainable_variables))\n",
        "          \n",
        "        self.reset()\n",
        "\n",
        "    def remember(self, obs, act, rew, next_obs, done):\n",
        "        self.memory.remember(obs, act, rew, next_obs, done)\n",
        "\n",
        "    def reset(self):\n",
        "        self.memory.reset()"
      ],
      "metadata": {
        "id": "-p0L_Li5faOl"
      },
      "id": "-p0L_Li5faOl",
      "execution_count": 85,
      "outputs": []
    },
    {
      "cell_type": "markdown",
      "source": [
        "# 6) Boucle de jeu"
      ],
      "metadata": {
        "id": "TJvqH5pCoeWR"
      },
      "id": "TJvqH5pCoeWR"
    },
    {
      "cell_type": "code",
      "source": [
        "actions = np.arange(NB_COLUMNS)\n",
        "nb_actions = len(actions)\n",
        "\n",
        "env = Env(actions=actions, nb_rows=NB_ROWS, nb_columns=NB_COLUMNS, nb_players=2)\n",
        "action_value = Estimator(nb_rows=NB_ROWS, nb_columns=NB_COLUMNS, nb_actions=nb_actions)\n",
        "memory = Memory()\n",
        "optimizer = tf.keras.optimizers.Adam(learning_rate=1e-3)"
      ],
      "metadata": {
        "id": "h_0zTBb5xZqo"
      },
      "id": "h_0zTBb5xZqo",
      "execution_count": 86,
      "outputs": []
    },
    {
      "cell_type": "code",
      "source": [
        "agent = Agent(actions, memory, action_value, optimizer)"
      ],
      "metadata": {
        "id": "8r8YNVUggfXO"
      },
      "id": "8r8YNVUggfXO",
      "execution_count": 87,
      "outputs": []
    },
    {
      "cell_type": "code",
      "source": [
        "EPOCHS = 50\n",
        "nb_games_before_update = 20\n",
        "nb_games_test = 10\n",
        "nb_wins_history = []\n",
        "\n",
        "for epoch in range(EPOCHS):\n",
        "    print(\"--- Epoch {}/{} ---\".format(epoch+1, EPOCHS))\n",
        "\n",
        "    # Train\n",
        "    for _ in range(nb_games_before_update):\n",
        "        game_finished = False\n",
        "        while not game_finished:\n",
        "            # Agent turn\n",
        "            observation = env.get_observation()\n",
        "            illegal_actions = [i for i in range(nb_actions) if not env.game.is_legal(i)]\n",
        "\n",
        "            action = agent.act(observation, illegal_actions, training=True)\n",
        "\n",
        "            observation, reward, next_observation, game_finished = env.step(action)\n",
        "            next_observation = env.get_observation()\n",
        "            agent.remember(observation, action, reward, next_observation, game_finished)\n",
        "        \n",
        "        env.reset()\n",
        "\n",
        "    agent.learn()\n",
        "    \n",
        "\n",
        "    # Test\n",
        "    nb_wins = 0\n",
        "    for _ in range(nb_games_test):\n",
        "        game_finished = False\n",
        "        while not game_finished:\n",
        "            # Agent turn\n",
        "            observation = env.get_observation()\n",
        "            illegal_actions = [i for i in range(nb_actions) if not env.game.is_legal(i)]\n",
        "            action = agent.act(observation, illegal_actions, training=False)\n",
        "\n",
        "            _, _, _, game_finished = env.step(action)\n",
        "        \n",
        "        if env.game.won(0):\n",
        "            nb_wins += 1\n",
        "\n",
        "        env.reset()\n",
        "\n",
        "    nb_wins_history.append(nb_wins)\n",
        "\n",
        "    print(\"{}/{} wins\".format(nb_wins, nb_games_test))"
      ],
      "metadata": {
        "id": "8VP5s1YQogIA"
      },
      "id": "8VP5s1YQogIA",
      "execution_count": null,
      "outputs": []
    },
    {
      "cell_type": "code",
      "source": [
        "plt.plot(np.arange(EPOCHS), nb_wins_history)\n",
        "plt.title(\"Evolution du nombre de victoires de l'agent\")\n",
        "plt.xticks(np.arange(EPOCHS))\n",
        "plt.yticks([i for i in range(nb_games_test+1)])\n",
        "plt.xlabel(\"Epochs\")\n",
        "plt.ylabel(\"Nombre de victoires\")\n",
        "plt.grid()\n",
        "plt.show()"
      ],
      "metadata": {
        "colab": {
          "base_uri": "https://localhost:8080/",
          "height": 295
        },
        "id": "gAvg5WhYE1On",
        "outputId": "d424f9c8-2bee-4b45-da3e-597b0367e0dc"
      },
      "id": "gAvg5WhYE1On",
      "execution_count": 89,
      "outputs": [
        {
          "output_type": "display_data",
          "data": {
            "text/plain": [
              "<Figure size 432x288 with 1 Axes>"
            ],
            "image/png": "[encoded data removed]"
          },
          "metadata": {
            "needs_background": "light"
          }
        }
      ]
    },
    {
      "cell_type": "markdown",
      "source": [
        "# 7) Test de partie"
      ],
      "metadata": {
        "id": "EQr6GTksoC1f"
      },
      "id": "EQr6GTksoC1f"
    },
    {
      "cell_type": "code",
      "source": [
        "game = Game()\n",
        "game_finished = False\n",
        "while not game_finished:\n",
        "    observation = game.get_observation()\n",
        "    illegal_actions = [i for i in range(nb_actions) if not game.is_legal(i)]\n",
        "    action = agent.act(observation, illegal_actions, training=True)\n",
        "    game.set_token(action)\n",
        "    game.render()\n",
        "\n",
        "    if game.won(0):\n",
        "        game_finished = True\n",
        "    \n",
        "    elif game.is_draw():\n",
        "        game_finished = True\n",
        "    \n",
        "    else:\n",
        "        player_action = int(input((\"Choisissez une colonne : \")))\n",
        "        game.set_token(player_action)\n",
        "        if game.won(1) or game.is_draw():\n",
        "            game_finished = True\n",
        "\n",
        "\n",
        "\n"
      ],
      "metadata": {
        "colab": {
          "base_uri": "https://localhost:8080/",
          "height": 1000
        },
        "id": "0ECq4RmunRF-",
        "outputId": "9ff9e3cc-d73b-4247-dcb9-876b4bf94fcc"
      },
      "id": "0ECq4RmunRF-",
      "execution_count": 92,
      "outputs": [
        {
          "output_type": "display_data",
          "data": {
            "text/plain": [
              "<Figure size 432x288 with 1 Axes>"
            ],
            "image/png": "[encoded data removed]"
          },
          "metadata": {
            "needs_background": "light"
          }
        },
        {
          "name": "stdout",
          "output_type": "stream",
          "text": [
            "Choisissez une colonne : 5\n"
          ]
        },
        {
          "output_type": "display_data",
          "data": {
            "text/plain": [
              "<Figure size 432x288 with 1 Axes>"
            ],
            "image/png": "[encoded data removed]"
          },
          "metadata": {
            "needs_background": "light"
          }
        },
        {
          "name": "stdout",
          "output_type": "stream",
          "text": [
            "Choisissez une colonne : 5\n"
          ]
        },
        {
          "output_type": "display_data",
          "data": {
            "text/plain": [
              "<Figure size 432x288 with 1 Axes>"
            ],
            "image/png": "[encoded data removed]"
          },
          "metadata": {
            "needs_background": "light"
          }
        },
        {
          "name": "stdout",
          "output_type": "stream",
          "text": [
            "Choisissez une colonne : 5\n"
          ]
        },
        {
          "output_type": "display_data",
          "data": {
            "text/plain": [
              "<Figure size 432x288 with 1 Axes>"
            ],
            "image/png": "[encoded data removed]"
          },
          "metadata": {
            "needs_background": "light"
          }
        },
        {
          "name": "stdout",
          "output_type": "stream",
          "text": [
            "Choisissez une colonne : 5\n"
          ]
        }
      ]
    }
  ],
  "metadata": {
    "kernelspec": {
      "display_name": "Python 3 (ipykernel)",
      "language": "python",
      "name": "python3"
    },
    "language_info": {
      "codemirror_mode": {
        "name": "ipython",
        "version": 3
      },
      "file_extension": ".py",
      "mimetype": "text/x-python",
      "name": "python",
      "nbconvert_exporter": "python",
      "pygments_lexer": "ipython3",
      "version": "3.9.10"
    },
    "colab": {
      "provenance": []
    }
  },
  "nbformat": 4,
  "nbformat_minor": 5
}