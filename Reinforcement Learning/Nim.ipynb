{
  "nbformat": 4,
  "nbformat_minor": 0,
  "metadata": {
    "colab": {
      "provenance": []
    },
    "kernelspec": {
      "name": "python3",
      "display_name": "Python 3"
    },
    "language_info": {
      "name": "python"
    }
  },
  "cells": [
    {
      "cell_type": "markdown",
      "source": [
        "# **Jeu de Nim**"
      ],
      "metadata": {
        "id": "IuWjYZ3xomF3"
      }
    },
    {
      "cell_type": "markdown",
      "source": [
        "Pour ce code, je me suis inspiré du cours de Mathis Fédérico (disponible ici : https://www.youtube.com/watch?v=W8a3H_C5fZ0)\n",
        "\n",
        "Dans le cadre du jeu de Nim, le but de ce script est de déterminer les actions optimales au jeu de Nim. Pour cela, nous allons calculer les valeurs d'actions et valeurs d'états des différents états et des différentes actions possibles dans le jeu."
      ],
      "metadata": {
        "id": "K69YSKAeTeTV"
      }
    },
    {
      "cell_type": "markdown",
      "source": [
        "# 1) Importations et paramètres du jeu"
      ],
      "metadata": {
        "id": "wOW7DAuAk-Rf"
      }
    },
    {
      "cell_type": "code",
      "source": [
        "import numpy as np\n",
        "import matplotlib.pyplot as plt\n",
        "\n",
        "nb_sticks = 20"
      ],
      "metadata": {
        "id": "a9WOn2b_T6b8"
      },
      "execution_count": 169,
      "outputs": []
    },
    {
      "cell_type": "markdown",
      "source": [
        "# 2) Initialisation des états, des actions, des récompenses et des probabilités de transition"
      ],
      "metadata": {
        "id": "0-MoOHOblB8o"
      }
    },
    {
      "cell_type": "code",
      "execution_count": 170,
      "metadata": {
        "colab": {
          "base_uri": "https://localhost:8080/"
        },
        "id": "MdTkEmp_P7V2",
        "outputId": "4b95871d-7106-4ee1-f4fa-aff7ebbb258d"
      },
      "outputs": [
        {
          "output_type": "stream",
          "name": "stdout",
          "text": [
            "States :  [ 0  1  2  3  4  5  6  7  8  9 10 11 12 13 14 15 16 17 18 19 20 -1]\n",
            "Actions :  [1, 2, 3]\n"
          ]
        }
      ],
      "source": [
        "# Etats\n",
        "states = np.concatenate([range(nb_sticks+1), [-1]]) # -1 est un état \"puits\", sur lequel on reste indéfiniment quand on y est\n",
        "nb_states = len(states)\n",
        "\n",
        "# Actions\n",
        "actions = [1, 2, 3]\n",
        "nb_actions = len(actions)\n",
        "\n",
        "print(\"States : \", states)\n",
        "print(\"Actions : \", actions)"
      ]
    },
    {
      "cell_type": "code",
      "source": [
        "# Récompenses\n",
        "# La récompense est -1 si après avoir joué on arrive sur l'état 0, et 1 si après avoir joué le joueur adverse arrive sur l'état 1\n",
        "R = np.zeros((nb_actions, nb_states))\n",
        "for act in actions:\n",
        "  for j in range(act+1):\n",
        "    R[act-1][j] = -1\n",
        "  R[act-1][act+1] = 1\n",
        "\n",
        "print(\"Recompenses : \\n\", R)"
      ],
      "metadata": {
        "colab": {
          "base_uri": "https://localhost:8080/"
        },
        "id": "Thn6uekFjLml",
        "outputId": "ec1a61c7-f508-437b-bca2-35049df05159"
      },
      "execution_count": 171,
      "outputs": [
        {
          "output_type": "stream",
          "name": "stdout",
          "text": [
            "Recompenses : \n",
            " [[-1. -1.  1.  0.  0.  0.  0.  0.  0.  0.  0.  0.  0.  0.  0.  0.  0.  0.\n",
            "   0.  0.  0.  0.]\n",
            " [-1. -1. -1.  1.  0.  0.  0.  0.  0.  0.  0.  0.  0.  0.  0.  0.  0.  0.\n",
            "   0.  0.  0.  0.]\n",
            " [-1. -1. -1. -1.  1.  0.  0.  0.  0.  0.  0.  0.  0.  0.  0.  0.  0.  0.\n",
            "   0.  0.  0.  0.]]\n"
          ]
        }
      ]
    },
    {
      "cell_type": "code",
      "source": [
        "# Probabilités\n",
        "P = np.zeros((nb_actions, nb_states, nb_states))\n",
        "for act in actions:\n",
        "  P[act-1][0][-1] = 1 # Si on est déjà à l'état 0, on va sur l'état puits -1\n",
        "\n",
        "  for state in range(1, nb_states):\n",
        "    new_state = state - act\n",
        "    if new_state <= 0:\n",
        "      # Si l'état futur de l'adversaire est inférieur à 0, c'est qu'on a atteri sur l'état 0\n",
        "      P[act - 1][state][0] = 1\n",
        "    else:\n",
        "      next_possible_states = np.array([new_state for _ in range(nb_actions)]) - actions\n",
        "      next_possible_states[next_possible_states < 0] = 0\n",
        "\n",
        "      unique_states = np.unique(next_possible_states)\n",
        "\n",
        "      for st in unique_states:\n",
        "        P[act-1][state][st] = np.count_nonzero(next_possible_states == st) / nb_actions"
      ],
      "metadata": {
        "id": "Rsoa9MuxayZe"
      },
      "execution_count": 172,
      "outputs": []
    },
    {
      "cell_type": "markdown",
      "source": [
        "# 3) Calcul des valeurs d'états"
      ],
      "metadata": {
        "id": "QcwZ3_DAlJI_"
      }
    },
    {
      "cell_type": "code",
      "source": [
        "gamma = 0.99\n",
        "nb_steps = 50\n",
        "\n",
        "V = np.array([0 for _ in range(nb_states)])\n",
        "\n",
        "for _ in range(nb_steps):\n",
        "  V = np.amax(R + gamma*np.matmul(P,V), axis=0)\n",
        "\n",
        "plt.plot(states[:-1], V[:-1])\n",
        "plt.title(\"Valeurs d'état\")\n",
        "plt.xlabel('Etat')\n",
        "plt.ylabel('Valeur')\n",
        "plt.xticks(states[:-1])\n",
        "plt.yticks([-2, -1, 0, 1, 2])\n",
        "plt.show()"
      ],
      "metadata": {
        "colab": {
          "base_uri": "https://localhost:8080/",
          "height": 295
        },
        "id": "O0eiiDqTUr9n",
        "outputId": "834557c0-26a9-465a-a98e-530fa3ef5af8"
      },
      "execution_count": 199,
      "outputs": [
        {
          "output_type": "display_data",
          "data": {
            "text/plain": [
              "<Figure size 432x288 with 1 Axes>"
            ],
            "image/png": "[encoded data removed]"
          },
          "metadata": {
            "needs_background": "light"
          }
        }
      ]
    },
    {
      "cell_type": "markdown",
      "source": [
        "# 4) Calcul des valeurs d'actions"
      ],
      "metadata": {
        "id": "GRHEElxJlf9v"
      }
    },
    {
      "cell_type": "code",
      "source": [
        "gamma = 0.99\n",
        "nb_steps = 100\n",
        "\n",
        "Q = np.zeros((nb_actions, nb_states))\n",
        "\n",
        "for _ in range(nb_steps):\n",
        "  Q = R + gamma*np.matmul(P, np.amax(Q, axis=0))\n",
        "\n",
        "for i in range(nb_actions):\n",
        "  plt.plot(states[:-1], Q[i, :-1])\n",
        "plt.legend(['Action 1', 'Action 2', 'Action 3'])\n",
        "plt.title(\"Valeurs d'action\")\n",
        "plt.xlabel('Etat')\n",
        "plt.ylabel('Valeur')\n",
        "plt.xticks(states[:-1])\n",
        "plt.yticks([-2, -1, 0, 1, 2])\n",
        "\n",
        "plt.show()"
      ],
      "metadata": {
        "colab": {
          "base_uri": "https://localhost:8080/",
          "height": 295
        },
        "id": "48cW4zN5liA-",
        "outputId": "e5a8d82a-43f8-4706-a6d2-aeeff67ce9b7"
      },
      "execution_count": 201,
      "outputs": [
        {
          "output_type": "display_data",
          "data": {
            "text/plain": [
              "<Figure size 432x288 with 1 Axes>"
            ],
            "image/png": "[encoded data removed]"
          },
          "metadata": {
            "needs_background": "light"
          }
        }
      ]
    },
    {
      "cell_type": "code",
      "source": [
        "Q.shape"
      ],
      "metadata": {
        "colab": {
          "base_uri": "https://localhost:8080/"
        },
        "id": "9d91_MY6pmBw",
        "outputId": "9fb1b81a-6517-49b3-b371-5c7e15a35d89"
      },
      "execution_count": 202,
      "outputs": [
        {
          "output_type": "execute_result",
          "data": {
            "text/plain": [
              "(3, 22)"
            ]
          },
          "metadata": {},
          "execution_count": 202
        }
      ]
    },
    {
      "cell_type": "markdown",
      "source": [
        "# 5) Test"
      ],
      "metadata": {
        "id": "deg0Zu3kpPJN"
      }
    },
    {
      "cell_type": "code",
      "source": [
        "def check_win(current_nb_sticks):\n",
        "  if current_nb_sticks <= 0:\n",
        "    print(\"Vous avez gagné\")\n",
        "\n",
        "  elif current_nb_sticks == 1:\n",
        "    print(\"Vous avez perdu\")\n",
        "\n",
        "current_nb_sticks = nb_sticks\n",
        "\n",
        "print(\"La partie commence avec {} bâtons\".format(current_nb_sticks))\n",
        "while (current_nb_sticks >= 1):\n",
        "  agent_action = np.argmax(Q[:, current_nb_sticks])\n",
        "  current_nb_sticks -= actions[agent_action]\n",
        "  print(\"L'agent a retiré {} bâtons\".format(actions[agent_action]))\n",
        "  print(\"Il reste {} bâtons\".format(current_nb_sticks))\n",
        "\n",
        "\n",
        "  if current_nb_sticks <= 0:\n",
        "    print(\"Vous avez gagné\")\n",
        "    break\n",
        "\n",
        "  elif current_nb_sticks == 1:\n",
        "    print(\"Vous avez perdu\")\n",
        "    break\n",
        "\n",
        "  else:\n",
        "    player_action = int(input(\"Choisissez un nombre de bâtons à retirer (parmi {}) : \".format(actions)))\n",
        "    current_nb_sticks -= player_action\n",
        "    print(\"Il reste {} bâtons\\n\".format(current_nb_sticks))\n",
        "\n",
        "\n",
        "    if current_nb_sticks <= 0:\n",
        "      print(\"Vous avez perdu\")\n",
        "      break\n",
        "\n",
        "    elif current_nb_sticks == 1:\n",
        "      print(\"Vous avez gagné\")\n",
        "      break"
      ],
      "metadata": {
        "colab": {
          "base_uri": "https://localhost:8080/"
        },
        "id": "JHRISjnipRuk",
        "outputId": "44660813-6c47-4941-de6e-98b9d57397dc"
      },
      "execution_count": 212,
      "outputs": [
        {
          "output_type": "stream",
          "name": "stdout",
          "text": [
            "La partie commence avec 20 bâtons\n",
            "L'agent a retiré 3 bâtons\n",
            "Il reste 17 bâtons\n",
            "Choisissez un nombre de bâtons à retirer (parmi [1, 2, 3]) : 2\n",
            "Il reste 15 bâtons\n",
            "\n",
            "L'agent a retiré 2 bâtons\n",
            "Il reste 13 bâtons\n",
            "Choisissez un nombre de bâtons à retirer (parmi [1, 2, 3]) : 3\n",
            "Il reste 10 bâtons\n",
            "\n",
            "L'agent a retiré 1 bâtons\n",
            "Il reste 9 bâtons\n",
            "Choisissez un nombre de bâtons à retirer (parmi [1, 2, 3]) : 1\n",
            "Il reste 8 bâtons\n",
            "\n",
            "L'agent a retiré 3 bâtons\n",
            "Il reste 5 bâtons\n",
            "Choisissez un nombre de bâtons à retirer (parmi [1, 2, 3]) : 1\n",
            "Il reste 4 bâtons\n",
            "\n",
            "L'agent a retiré 3 bâtons\n",
            "Il reste 1 bâtons\n",
            "Vous avez perdu\n"
          ]
        }
      ]
    }
  ]
}