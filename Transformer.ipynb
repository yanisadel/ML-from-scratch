{
  "nbformat": 4,
  "nbformat_minor": 0,
  "metadata": {
    "colab": {
      "provenance": []
    },
    "kernelspec": {
      "name": "python3",
      "display_name": "Python 3"
    },
    "language_info": {
      "name": "python"
    },
    "gpuClass": "standard"
  },
  "cells": [
    {
      "cell_type": "markdown",
      "source": [
        "# **Implementation of the Transformer architecture with PyTorch**"
      ],
      "metadata": {
        "id": "xFMPGcATusiW"
      }
    },
    {
      "cell_type": "markdown",
      "source": [
        "## **Importations**"
      ],
      "metadata": {
        "id": "NspdUBKeuyy3"
      }
    },
    {
      "cell_type": "code",
      "source": [
        "!pip install transformers\n",
        "!pip install sentencepiece"
      ],
      "metadata": {
        "id": "udE6i6O2BSYU"
      },
      "execution_count": null,
      "outputs": []
    },
    {
      "cell_type": "code",
      "execution_count": 2,
      "metadata": {
        "id": "urgW-4_DAws9"
      },
      "outputs": [],
      "source": [
        "import torch\n",
        "from torch import nn\n",
        "from transformers import CamembertTokenizer"
      ]
    },
    {
      "cell_type": "markdown",
      "source": [
        "# **1) Model**"
      ],
      "metadata": {
        "id": "BIyunQOCB8Jq"
      }
    },
    {
      "cell_type": "code",
      "source": [
        "class EmbeddingLayer(nn.Module):\n",
        "  def __init__(self, vocab_size=35000, embedding_dim=512, **kwargs):\n",
        "    super(**kwargs).__init__()\n",
        "    self.embedding = nn.Embedding(num_embeddings=vocab_size, embedding_dim=embedding_dim)\n",
        "\n",
        "  def forward(self, x):\n",
        "    return self.embedding(x)\n",
        "\n",
        "model = EmbeddingLayer(vocab_size=10000, embedding_dim=512)\n",
        "x = torch.randint(0, 100, (32, 20))\n",
        "res = model(x)\n",
        "assert res.shape == (32, 20, 512)"
      ],
      "metadata": {
        "id": "mKcXl6fvmltw"
      },
      "execution_count": 3,
      "outputs": []
    },
    {
      "cell_type": "code",
      "source": [
        "class ScaledDotProductAttention(nn.Module):\n",
        "  def __init__(self, embedding_dim=512, **kwargs):\n",
        "    super(**kwargs).__init__()\n",
        "    self.query_layer = nn.Linear(embedding_dim, embedding_dim)\n",
        "    self.key_layer = nn.Linear(embedding_dim, embedding_dim)\n",
        "    self.value_layer = nn.Linear(embedding_dim, embedding_dim)\n",
        "\n",
        "  def forward(self, x, mask=torch.IntTensor([[]])):\n",
        "    batch_size, nb_tokens, embedding_dim = x.shape\n",
        "    Q = self.query_layer(x)\n",
        "    K = self.key_layer(x)\n",
        "    V = self.value_layer(x)\n",
        "    K_transpose = torch.transpose(K, 1, 2)\n",
        "    QK = torch.matmul(Q, K_transpose)\n",
        "    \n",
        "    QK_normalized = QK / (embedding_dim**(1/2))\n",
        "\n",
        "    _, n = mask.shape\n",
        "    if n != 0:\n",
        "      for i in range(batch_size):\n",
        "        for j in range(nb_tokens):\n",
        "          if mask[i][j] == 0:\n",
        "            QK_normalized[i, :, j] = 0\n",
        "              \n",
        "    softmax = nn.Softmax(dim=2)(QK_normalized)\n",
        "    res = torch.matmul(softmax, V)\n",
        "\n",
        "    return res\n",
        "\n",
        "model = ScaledDotProductAttention(embedding_dim=512)\n",
        "x = torch.rand(32, 20, 512)\n",
        "mask = torch.randint(0, 2, (32, 20))\n",
        "res = model(x, mask=mask)\n",
        "assert res.shape == (32, 20, 512)"
      ],
      "metadata": {
        "id": "HGEsNKLznqiR"
      },
      "execution_count": 4,
      "outputs": []
    },
    {
      "cell_type": "code",
      "source": [
        "class MultiHeadAttentionLayer(nn.Module):\n",
        "  def __init__(self, attention_heads=8, embedding_dim=512, **kwargs):\n",
        "    super(**kwargs).__init__()\n",
        "    self.attention_heads = attention_heads\n",
        "    self.embedding_dim = embedding_dim\n",
        "    self.attention_layers = [ScaledDotProductAttention(embedding_dim=embedding_dim//attention_heads) for _ in range(attention_heads)]\n",
        "\n",
        "  def forward(self, x, mask=torch.IntTensor([[]])):\n",
        "    batch_size, nb_tokens, embedding_dim = x.shape\n",
        "    x = x.reshape(batch_size, nb_tokens, self.attention_heads, embedding_dim // self.attention_heads)\n",
        "    \n",
        "    concat = torch.Tensor()\n",
        "    for i, attention_layer in enumerate(self.attention_layers):\n",
        "      attention = attention_layer(x[:, :, i, :], mask=mask)\n",
        "      concat = torch.concat([concat, attention], dim=2)\n",
        "  \n",
        "    return concat\n",
        "\n",
        "model = MultiHeadAttentionLayer(embedding_dim=512)\n",
        "x = torch.rand(32, 20, 512)\n",
        "mask = torch.randint(0, 2, (32, 20))\n",
        "res = model(x, mask=mask)\n",
        "assert res.shape == (32, 20, 512)"
      ],
      "metadata": {
        "id": "rB5h2GdCJjWp"
      },
      "execution_count": 5,
      "outputs": []
    },
    {
      "cell_type": "code",
      "source": [
        "class EncoderLayer(nn.Module):\n",
        "  def __init__(self, embedding_dim=512, dropout_rate=0.1, **kwargs):\n",
        "    super(**kwargs).__init__()\n",
        "    self.multi_head_attention = MultiHeadAttentionLayer()\n",
        "    self.dense1 = nn.Linear(embedding_dim, embedding_dim)\n",
        "    self.dense2 = nn.Linear(embedding_dim, embedding_dim)\n",
        "    self.layer_norm = nn.LayerNorm(embedding_dim)\n",
        "    self.dropout = nn.Dropout(dropout_rate)\n",
        "    self.relu = nn.ReLU()\n",
        "\n",
        "  def forward(self, x, mask=torch.IntTensor([[]])):\n",
        "    x = self.layer_norm(x + self.dropout(self.multi_head_attention(x, mask=mask)))\n",
        "    x = self.layer_norm(x + self.dropout(self.dense2(self.relu(self.dense1(x)))))\n",
        "\n",
        "    return x\n",
        "\n",
        "model = EncoderLayer(embedding_dim=512)\n",
        "x = torch.rand(32, 20, 512)\n",
        "mask = torch.randint(0, 2, (32, 20))\n",
        "res = model(x, mask=mask)\n",
        "assert res.shape == (32, 20, 512)"
      ],
      "metadata": {
        "id": "_8OXHygLB-Jc"
      },
      "execution_count": 6,
      "outputs": []
    },
    {
      "cell_type": "code",
      "source": [
        "class Encoder(nn.Module):\n",
        "  def __init__(self, vocab_size, embedding_dim=512, dropout_rate=0.1, **kwargs):\n",
        "    super(**kwargs).__init__()\n",
        "    self.embedding_layer = EmbeddingLayer(vocab_size, embedding_dim)\n",
        "    self.encoder_layer1 = EncoderLayer(embedding_dim=embedding_dim, dropout_rate=dropout_rate)\n",
        "    self.encoder_layer2 = EncoderLayer(embedding_dim=embedding_dim, dropout_rate=dropout_rate)\n",
        "    self.encoder_layer3 = EncoderLayer(embedding_dim=embedding_dim, dropout_rate=dropout_rate)\n",
        "    self.encoder_layer4 = EncoderLayer(embedding_dim=embedding_dim, dropout_rate=dropout_rate)\n",
        "    self.encoder_layer5 = EncoderLayer(embedding_dim=embedding_dim, dropout_rate=dropout_rate)\n",
        "    self.encoder_layer6 = EncoderLayer(embedding_dim=embedding_dim, dropout_rate=dropout_rate)\n",
        "\n",
        "  def forward(self, x, mask=torch.IntTensor([[]])):\n",
        "    x = self.embedding_layer(x)\n",
        "    x = self.encoder_layer1(x, mask=mask)\n",
        "    x = self.encoder_layer2(x, mask=mask)\n",
        "    x = self.encoder_layer3(x, mask=mask)\n",
        "    x = self.encoder_layer4(x, mask=mask)\n",
        "    x = self.encoder_layer5(x, mask=mask)\n",
        "    x = self.encoder_layer6(x, mask=mask)\n",
        "\n",
        "    return x\n",
        "\n",
        "model = Encoder(vocab_size=10000, embedding_dim=512)\n",
        "x = torch.randint(0, 100, (32, 20))\n",
        "mask = torch.randint(0, 2, (32, 20))\n",
        "res = model(x, mask=mask)\n",
        "assert res.shape == (32, 20, 512)\n",
        "\n",
        "model"
      ],
      "metadata": {
        "id": "Y7qlj8BPIqSY",
        "colab": {
          "base_uri": "https://localhost:8080/"
        },
        "outputId": "0866bffa-2025-4b8a-b3d7-c2d19c2a0ab9"
      },
      "execution_count": 7,
      "outputs": [
        {
          "output_type": "execute_result",
          "data": {
            "text/plain": [
              "Encoder(\n",
              "  (embedding_layer): EmbeddingLayer(\n",
              "    (embedding): Embedding(10000, 512)\n",
              "  )\n",
              "  (encoder_layer1): EncoderLayer(\n",
              "    (multi_head_attention): MultiHeadAttentionLayer()\n",
              "    (dense1): Linear(in_features=512, out_features=512, bias=True)\n",
              "    (dense2): Linear(in_features=512, out_features=512, bias=True)\n",
              "    (layer_norm): LayerNorm((512,), eps=1e-05, elementwise_affine=True)\n",
              "    (dropout): Dropout(p=0.1, inplace=False)\n",
              "    (relu): ReLU()\n",
              "  )\n",
              "  (encoder_layer2): EncoderLayer(\n",
              "    (multi_head_attention): MultiHeadAttentionLayer()\n",
              "    (dense1): Linear(in_features=512, out_features=512, bias=True)\n",
              "    (dense2): Linear(in_features=512, out_features=512, bias=True)\n",
              "    (layer_norm): LayerNorm((512,), eps=1e-05, elementwise_affine=True)\n",
              "    (dropout): Dropout(p=0.1, inplace=False)\n",
              "    (relu): ReLU()\n",
              "  )\n",
              "  (encoder_layer3): EncoderLayer(\n",
              "    (multi_head_attention): MultiHeadAttentionLayer()\n",
              "    (dense1): Linear(in_features=512, out_features=512, bias=True)\n",
              "    (dense2): Linear(in_features=512, out_features=512, bias=True)\n",
              "    (layer_norm): LayerNorm((512,), eps=1e-05, elementwise_affine=True)\n",
              "    (dropout): Dropout(p=0.1, inplace=False)\n",
              "    (relu): ReLU()\n",
              "  )\n",
              "  (encoder_layer4): EncoderLayer(\n",
              "    (multi_head_attention): MultiHeadAttentionLayer()\n",
              "    (dense1): Linear(in_features=512, out_features=512, bias=True)\n",
              "    (dense2): Linear(in_features=512, out_features=512, bias=True)\n",
              "    (layer_norm): LayerNorm((512,), eps=1e-05, elementwise_affine=True)\n",
              "    (dropout): Dropout(p=0.1, inplace=False)\n",
              "    (relu): ReLU()\n",
              "  )\n",
              "  (encoder_layer5): EncoderLayer(\n",
              "    (multi_head_attention): MultiHeadAttentionLayer()\n",
              "    (dense1): Linear(in_features=512, out_features=512, bias=True)\n",
              "    (dense2): Linear(in_features=512, out_features=512, bias=True)\n",
              "    (layer_norm): LayerNorm((512,), eps=1e-05, elementwise_affine=True)\n",
              "    (dropout): Dropout(p=0.1, inplace=False)\n",
              "    (relu): ReLU()\n",
              "  )\n",
              "  (encoder_layer6): EncoderLayer(\n",
              "    (multi_head_attention): MultiHeadAttentionLayer()\n",
              "    (dense1): Linear(in_features=512, out_features=512, bias=True)\n",
              "    (dense2): Linear(in_features=512, out_features=512, bias=True)\n",
              "    (layer_norm): LayerNorm((512,), eps=1e-05, elementwise_affine=True)\n",
              "    (dropout): Dropout(p=0.1, inplace=False)\n",
              "    (relu): ReLU()\n",
              "  )\n",
              ")"
            ]
          },
          "metadata": {},
          "execution_count": 7
        }
      ]
    },
    {
      "cell_type": "markdown",
      "source": [
        "# **2) Test**"
      ],
      "metadata": {
        "id": "4wV4ct24B2oL"
      }
    },
    {
      "cell_type": "markdown",
      "source": [
        "## **a) Data**"
      ],
      "metadata": {
        "id": "OIV33-9I4F09"
      }
    },
    {
      "cell_type": "code",
      "source": [
        "from google.colab import drive\n",
        "drive.mount('/content/drive')"
      ],
      "metadata": {
        "colab": {
          "base_uri": "https://localhost:8080/"
        },
        "id": "VESIGk3Z4Nqr",
        "outputId": "b15f227d-ac69-41f5-c50e-dd034b6acea4"
      },
      "execution_count": 8,
      "outputs": [
        {
          "output_type": "stream",
          "name": "stdout",
          "text": [
            "Mounted at /content/drive\n"
          ]
        }
      ]
    },
    {
      "cell_type": "code",
      "source": [
        "import pandas as pd\n",
        "\n",
        "path = \"drive/MyDrive/IA/Datasets/IMDB Movie Sentiment/data.csv\"\n",
        "df = pd.read_csv(path)\n",
        "print(df.shape)\n",
        "df.head(2)"
      ],
      "metadata": {
        "colab": {
          "base_uri": "https://localhost:8080/",
          "height": 130
        },
        "id": "VuYMmDO-4XrJ",
        "outputId": "2ace7312-7706-48cf-f031-8edd9c169393"
      },
      "execution_count": 9,
      "outputs": [
        {
          "output_type": "stream",
          "name": "stdout",
          "text": [
            "(40000, 2)\n"
          ]
        },
        {
          "output_type": "execute_result",
          "data": {
            "text/plain": [
              "                                                text  label\n",
              "0  I grew up (b. 1965) watching and loving the Th...      0\n",
              "1  When I put this movie in my DVD player, and sa...      0"
            ],
            "text/html": [
              "\n",
              "  <div id=\"df-a065f362-6a4a-4138-aa09-3464829ba838\">\n",
              "    <div class=\"colab-df-container\">\n",
              "      <div>\n",
              "<style scoped>\n",
              "    .dataframe tbody tr th:only-of-type {\n",
              "        vertical-align: middle;\n",
              "    }\n",
              "\n",
              "    .dataframe tbody tr th {\n",
              "        vertical-align: top;\n",
              "    }\n",
              "\n",
              "    .dataframe thead th {\n",
              "        text-align: right;\n",
              "    }\n",
              "</style>\n",
              "<table border=\"1\" class=\"dataframe\">\n",
              "  <thead>\n",
              "    <tr style=\"text-align: right;\">\n",
              "      <th></th>\n",
              "      <th>text</th>\n",
              "      <th>label</th>\n",
              "    </tr>\n",
              "  </thead>\n",
              "  <tbody>\n",
              "    <tr>\n",
              "      <th>0</th>\n",
              "      <td>I grew up (b. 1965) watching and loving the Th...</td>\n",
              "      <td>0</td>\n",
              "    </tr>\n",
              "    <tr>\n",
              "      <th>1</th>\n",
              "      <td>When I put this movie in my DVD player, and sa...</td>\n",
              "      <td>0</td>\n",
              "    </tr>\n",
              "  </tbody>\n",
              "</table>\n",
              "</div>\n",
              "      <button class=\"colab-df-convert\" onclick=\"convertToInteractive('df-a065f362-6a4a-4138-aa09-3464829ba838')\"\n",
              "              title=\"Convert this dataframe to an interactive table.\"\n",
              "              style=\"display:none;\">\n",
              "        \n",
              "  <svg xmlns=\"http://www.w3.org/2000/svg\" height=\"24px\"viewBox=\"0 0 24 24\"\n",
              "       width=\"24px\">\n",
              "    <path d=\"M0 0h24v24H0V0z\" fill=\"none\"/>\n",
              "    <path d=\"M18.56 5.44l.94 2.06.94-2.06 2.06-.94-2.06-.94-.94-2.06-.94 2.06-2.06.94zm-11 1L8.5 8.5l.94-2.06 2.06-.94-2.06-.94L8.5 2.5l-.94 2.06-2.06.94zm10 10l.94 2.06.94-2.06 2.06-.94-2.06-.94-.94-2.06-.94 2.06-2.06.94z\"/><path d=\"M17.41 7.96l-1.37-1.37c-.4-.4-.92-.59-1.43-.59-.52 0-1.04.2-1.43.59L10.3 9.45l-7.72 7.72c-.78.78-.78 2.05 0 2.83L4 21.41c.39.39.9.59 1.41.59.51 0 1.02-.2 1.41-.59l7.78-7.78 2.81-2.81c.8-.78.8-2.07 0-2.86zM5.41 20L4 18.59l7.72-7.72 1.47 1.35L5.41 20z\"/>\n",
              "  </svg>\n",
              "      </button>\n",
              "      \n",
              "  <style>\n",
              "    .colab-df-container {\n",
              "      display:flex;\n",
              "      flex-wrap:wrap;\n",
              "      gap: 12px;\n",
              "    }\n",
              "\n",
              "    .colab-df-convert {\n",
              "      background-color: #E8F0FE;\n",
              "      border: none;\n",
              "      border-radius: 50%;\n",
              "      cursor: pointer;\n",
              "      display: none;\n",
              "      fill: #1967D2;\n",
              "      height: 32px;\n",
              "      padding: 0 0 0 0;\n",
              "      width: 32px;\n",
              "    }\n",
              "\n",
              "    .colab-df-convert:hover {\n",
              "      background-color: #E2EBFA;\n",
              "      box-shadow: 0px 1px 2px rgba(60, 64, 67, 0.3), 0px 1px 3px 1px rgba(60, 64, 67, 0.15);\n",
              "      fill: #174EA6;\n",
              "    }\n",
              "\n",
              "    [theme=dark] .colab-df-convert {\n",
              "      background-color: #3B4455;\n",
              "      fill: #D2E3FC;\n",
              "    }\n",
              "\n",
              "    [theme=dark] .colab-df-convert:hover {\n",
              "      background-color: #434B5C;\n",
              "      box-shadow: 0px 1px 3px 1px rgba(0, 0, 0, 0.15);\n",
              "      filter: drop-shadow(0px 1px 2px rgba(0, 0, 0, 0.3));\n",
              "      fill: #FFFFFF;\n",
              "    }\n",
              "  </style>\n",
              "\n",
              "      <script>\n",
              "        const buttonEl =\n",
              "          document.querySelector('#df-a065f362-6a4a-4138-aa09-3464829ba838 button.colab-df-convert');\n",
              "        buttonEl.style.display =\n",
              "          google.colab.kernel.accessAllowed ? 'block' : 'none';\n",
              "\n",
              "        async function convertToInteractive(key) {\n",
              "          const element = document.querySelector('#df-a065f362-6a4a-4138-aa09-3464829ba838');\n",
              "          const dataTable =\n",
              "            await google.colab.kernel.invokeFunction('convertToInteractive',\n",
              "                                                     [key], {});\n",
              "          if (!dataTable) return;\n",
              "\n",
              "          const docLinkHtml = 'Like what you see? Visit the ' +\n",
              "            '<a target=\"_blank\" href=https://colab.research.google.com/notebooks/data_table.ipynb>data table notebook</a>'\n",
              "            + ' to learn more about interactive tables.';\n",
              "          element.innerHTML = '';\n",
              "          dataTable['output_type'] = 'display_data';\n",
              "          await google.colab.output.renderOutput(dataTable, element);\n",
              "          const docLink = document.createElement('div');\n",
              "          docLink.innerHTML = docLinkHtml;\n",
              "          element.appendChild(docLink);\n",
              "        }\n",
              "      </script>\n",
              "    </div>\n",
              "  </div>\n",
              "  "
            ]
          },
          "metadata": {},
          "execution_count": 9
        }
      ]
    },
    {
      "cell_type": "code",
      "source": [
        "df['label'].unique()"
      ],
      "metadata": {
        "colab": {
          "base_uri": "https://localhost:8080/"
        },
        "id": "eGjp8xxX4-TJ",
        "outputId": "00ef18cf-21b8-4858-c00b-900c87bcd446"
      },
      "execution_count": 11,
      "outputs": [
        {
          "output_type": "execute_result",
          "data": {
            "text/plain": [
              "array([0, 1])"
            ]
          },
          "metadata": {},
          "execution_count": 11
        }
      ]
    },
    {
      "cell_type": "markdown",
      "source": [
        "## **b) Preprocessing**"
      ],
      "metadata": {
        "id": "47M2s8GF5ocR"
      }
    },
    {
      "cell_type": "code",
      "source": [
        "import re\n",
        "\n",
        "def preprocess(s):\n",
        "  s = s.lower()\n",
        "  s = re.sub(\"(,|'|\\\"|-|/|\\(|\\)|#|:|;)\", \" \", s)\n",
        "  s = re.sub(\"\\.\", \" \", s)\n",
        "  s = re.sub(\"[0-9]\", \"\", s)\n",
        "  s = re.sub(\" +\", \" \", s)\n",
        "  return s\n",
        "\n",
        "preprocess(\"When I put this movie (Interstellar 1983) in my DVD player\")\n",
        "df['text_processed'] = df['text'].apply(preprocess)"
      ],
      "metadata": {
        "id": "uQ5P0RXf5N2e"
      },
      "execution_count": 12,
      "outputs": []
    },
    {
      "cell_type": "markdown",
      "source": [
        "## **c) Tokenizer**"
      ],
      "metadata": {
        "id": "Cfsg4H4Z5OeZ"
      }
    },
    {
      "cell_type": "code",
      "source": [
        "from transformers import AutoTokenizer\n",
        "\n",
        "tokenizer = AutoTokenizer.from_pretrained('bert-base-cased')"
      ],
      "metadata": {
        "id": "f4r1iEOs9Xis"
      },
      "execution_count": null,
      "outputs": []
    },
    {
      "cell_type": "code",
      "source": [
        "def get_tokens_mask(tokenizer, text, max_len=50):\n",
        "    \"\"\"\n",
        "    Prend en entrée un tokenizer et une chaine de caractères, et l'encode grâce au tokenizer\n",
        "    \n",
        "    Args\n",
        "    ----\n",
        "        tokenizer (CamembertTokenizer)\n",
        "        text (str) : phrase à encoder\n",
        "        max_len (int) : entier indiquant le nombre maximal de caractères\n",
        "    \n",
        "    Returns\n",
        "    -------\n",
        "        tokens (int list): liste de tokens encodés\n",
        "        mask (int list): le mask à fournir au modèle CamemBERT\n",
        "        size (int): le nombre de tokens utiles dans la phrase\n",
        "    \"\"\"\n",
        "\n",
        "    tokens = []\n",
        "    mask = []\n",
        "\n",
        "    text = tokenizer.encode(text)\n",
        "    text = text[:max_len-1] # On a besoin de ce -1 car on va rajouter le token 'pad' ensuite, et sans le -1 la longueur totale de text sera max_len+1\n",
        "\n",
        "    size = len(text)\n",
        "    pads = tokenizer.encode(['[PAD]']*(max(0, max_len - size)), is_split_into_words=True)\n",
        "\n",
        "    tokens[:max(max_len, size)] = text[:max(max_len, size)]\n",
        "    tokens += pads[1:-1]\n",
        "    mask = [1]*size+[0]*len(pads[1:-1])\n",
        "\n",
        "    return tokens, mask, size\n",
        "\n",
        "vocab_size = len(tokenizer)\n",
        "max_len = 30"
      ],
      "metadata": {
        "id": "qSN7xHyj9fLb"
      },
      "execution_count": 14,
      "outputs": []
    },
    {
      "cell_type": "markdown",
      "source": [
        "## **d) Données**"
      ],
      "metadata": {
        "id": "MmxnNKydnSUN"
      }
    },
    {
      "cell_type": "code",
      "source": [
        "from torch.utils.data import DataLoader, Dataset\n",
        "\n",
        "class Data(Dataset):\n",
        "    \"\"\"\n",
        "    Dataset qui contient deux listes de strings (text1 et text2) ainsi qu'une liste de similarités entre ces strings (target)\n",
        "    \"\"\"\n",
        "    def __init__(self, df, tokenizer, max_len=50):      \n",
        "        self.tokenizer = tokenizer\n",
        "        self.text = df.text_processed\n",
        "        self.target = df.label\n",
        "        self.max_len = max_len\n",
        "\n",
        "    def __len__(self):\n",
        "        return len(self.text)\n",
        "    \n",
        "    def __getitem__(self, index):\n",
        "        tokens, mask, size = get_tokens_mask(self.tokenizer, self.text[index], max_len=self.max_len)\n",
        "        target = self.target[index]\n",
        "\n",
        "        return tokens, mask, target\n",
        "  \n",
        "\n",
        "dataset = Data(df, tokenizer=tokenizer, max_len=max_len)\n",
        "test_size = 0.1\n",
        "nb_rows = len(dataset)\n",
        "nb_rows_train = int((1 - test_size) * nb_rows)\n",
        "train_dataset, test_dataset = torch.utils.data.random_split(dataset, [nb_rows_train, nb_rows - nb_rows_train])\n",
        "\n",
        "train_dataloader = DataLoader(train_dataset, batch_size=32, shuffle=True)\n",
        "test_dataloader = DataLoader(test_dataset, batch_size=32, shuffle=True)"
      ],
      "metadata": {
        "id": "fVCNqlkW8W3M"
      },
      "execution_count": 15,
      "outputs": []
    },
    {
      "cell_type": "markdown",
      "source": [
        "## **e) Entrainement d'un modèle**"
      ],
      "metadata": {
        "id": "_V31K5dGBMCA"
      }
    },
    {
      "cell_type": "code",
      "source": [
        "class Model(nn.Module):\n",
        "  def __init__(self, vocab_size=0, max_len=30, embedding_dim=512, **kwargs):\n",
        "    super(**kwargs).__init__()\n",
        "    self.encoder = Encoder(vocab_size=vocab_size, embedding_dim=embedding_dim)\n",
        "    self.dense = nn.Linear(embedding_dim, 2)\n",
        "    self.softmax = nn.Softmax(dim=1)\n",
        "\n",
        "  def forward(self, x, mask=torch.IntTensor([[]])):\n",
        "    x = self.encoder(x, mask=mask)\n",
        "    x = self.dense(x[:, 0])\n",
        "    x = self.softmax(x)\n",
        "\n",
        "    return x\n",
        "\n",
        "model = Model(vocab_size=vocab_size, max_len=max_len, embedding_dim=512)\n",
        "model"
      ],
      "metadata": {
        "colab": {
          "base_uri": "https://localhost:8080/"
        },
        "id": "49Iy_ERfBBIK",
        "outputId": "7993da07-1b8f-4223-c540-a17460b01d85"
      },
      "execution_count": 43,
      "outputs": [
        {
          "output_type": "execute_result",
          "data": {
            "text/plain": [
              "Model(\n",
              "  (encoder): Encoder(\n",
              "    (embedding_layer): EmbeddingLayer(\n",
              "      (embedding): Embedding(28996, 512)\n",
              "    )\n",
              "    (encoder_layer1): EncoderLayer(\n",
              "      (multi_head_attention): MultiHeadAttentionLayer()\n",
              "      (dense1): Linear(in_features=512, out_features=512, bias=True)\n",
              "      (dense2): Linear(in_features=512, out_features=512, bias=True)\n",
              "      (layer_norm): LayerNorm((512,), eps=1e-05, elementwise_affine=True)\n",
              "      (dropout): Dropout(p=0.1, inplace=False)\n",
              "      (relu): ReLU()\n",
              "    )\n",
              "    (encoder_layer2): EncoderLayer(\n",
              "      (multi_head_attention): MultiHeadAttentionLayer()\n",
              "      (dense1): Linear(in_features=512, out_features=512, bias=True)\n",
              "      (dense2): Linear(in_features=512, out_features=512, bias=True)\n",
              "      (layer_norm): LayerNorm((512,), eps=1e-05, elementwise_affine=True)\n",
              "      (dropout): Dropout(p=0.1, inplace=False)\n",
              "      (relu): ReLU()\n",
              "    )\n",
              "    (encoder_layer3): EncoderLayer(\n",
              "      (multi_head_attention): MultiHeadAttentionLayer()\n",
              "      (dense1): Linear(in_features=512, out_features=512, bias=True)\n",
              "      (dense2): Linear(in_features=512, out_features=512, bias=True)\n",
              "      (layer_norm): LayerNorm((512,), eps=1e-05, elementwise_affine=True)\n",
              "      (dropout): Dropout(p=0.1, inplace=False)\n",
              "      (relu): ReLU()\n",
              "    )\n",
              "    (encoder_layer4): EncoderLayer(\n",
              "      (multi_head_attention): MultiHeadAttentionLayer()\n",
              "      (dense1): Linear(in_features=512, out_features=512, bias=True)\n",
              "      (dense2): Linear(in_features=512, out_features=512, bias=True)\n",
              "      (layer_norm): LayerNorm((512,), eps=1e-05, elementwise_affine=True)\n",
              "      (dropout): Dropout(p=0.1, inplace=False)\n",
              "      (relu): ReLU()\n",
              "    )\n",
              "    (encoder_layer5): EncoderLayer(\n",
              "      (multi_head_attention): MultiHeadAttentionLayer()\n",
              "      (dense1): Linear(in_features=512, out_features=512, bias=True)\n",
              "      (dense2): Linear(in_features=512, out_features=512, bias=True)\n",
              "      (layer_norm): LayerNorm((512,), eps=1e-05, elementwise_affine=True)\n",
              "      (dropout): Dropout(p=0.1, inplace=False)\n",
              "      (relu): ReLU()\n",
              "    )\n",
              "    (encoder_layer6): EncoderLayer(\n",
              "      (multi_head_attention): MultiHeadAttentionLayer()\n",
              "      (dense1): Linear(in_features=512, out_features=512, bias=True)\n",
              "      (dense2): Linear(in_features=512, out_features=512, bias=True)\n",
              "      (layer_norm): LayerNorm((512,), eps=1e-05, elementwise_affine=True)\n",
              "      (dropout): Dropout(p=0.1, inplace=False)\n",
              "      (relu): ReLU()\n",
              "    )\n",
              "  )\n",
              "  (dense): Linear(in_features=512, out_features=2, bias=True)\n",
              "  (softmax): Softmax(dim=1)\n",
              ")"
            ]
          },
          "metadata": {},
          "execution_count": 43
        }
      ]
    },
    {
      "cell_type": "code",
      "source": [
        "import torch.optim as optim\n",
        "\n",
        "device = torch.device(\"cuda\" if torch.cuda.is_available() else \"cpu\")\n",
        "model.to(device)\n",
        "\n",
        "optimizer = optim.Adam(model.parameters(), lr=1e-3)\n",
        "cross_entropy = nn.CrossEntropyLoss()"
      ],
      "metadata": {
        "id": "tAQIiY98D6EA"
      },
      "execution_count": 44,
      "outputs": []
    },
    {
      "cell_type": "code",
      "source": [
        "from tqdm import tqdm\n",
        "from torch.nn.utils.rnn import pad_sequence\n",
        "\n",
        "EPOCHS = 5\n",
        "\n",
        "losses_train = []\n",
        "losses_test = []\n",
        "\n",
        "for epoch in range(EPOCHS):\n",
        "    running_loss_train = 0\n",
        "    running_loss_test = 0\n",
        "    print(\"Epoch {}/{}\".format(epoch+1, EPOCHS))\n",
        "    for tokens, masks, targets in tqdm(train_dataloader):\n",
        "        optimizer.zero_grad() \n",
        "\n",
        "        tokens = pad_sequence(tokens).to(device)\n",
        "        masks = pad_sequence(masks).to(device)\n",
        "        targets = targets.to(device)\n",
        "\n",
        "        targets_one_hot = nn.functional.one_hot(targets.long(), num_classes=2)\n",
        "\n",
        "        outputs = model(tokens, mask=masks)\n",
        "\n",
        "        loss = cross_entropy(outputs, targets)\n",
        "        loss.backward()\n",
        "\n",
        "        optimizer.step()\n",
        "\n",
        "        running_loss_train += loss.item()\n",
        "\n",
        "    running_loss_train /= len(train_dataloader)\n",
        "    losses_train.append(running_loss_train)\n",
        "\n",
        "    with torch.no_grad():\n",
        "        for tokens, masks, targets in test_dataloader:\n",
        "          tokens = pad_sequence(tokens).to(device)\n",
        "          masks = pad_sequence(masks).to(device)\n",
        "          targets = targets.to(device)\n",
        "\n",
        "          targets_one_hot = nn.functional.one_hot(targets.long(), num_classes=2)\n",
        "\n",
        "          outputs = model(tokens, mask=masks)\n",
        "\n",
        "          loss = cross_entropy(outputs, targets)\n",
        "\n",
        "          running_loss_test += loss.item()\n",
        "\n",
        "    running_loss_test /= len(test_dataloader)\n",
        "    losses_test.append(running_loss_test)\n",
        "\n",
        "    print(\"Train Loss : {}, Test Loss : {}\".format(running_loss_train, running_loss_test))"
      ],
      "metadata": {
        "colab": {
          "base_uri": "https://localhost:8080/"
        },
        "id": "q3gUhb0ICG0h",
        "outputId": "ff263469-d085-4419-f74f-a002d194fd4f"
      },
      "execution_count": 45,
      "outputs": [
        {
          "output_type": "stream",
          "name": "stdout",
          "text": [
            "Epoch 1/5\n"
          ]
        },
        {
          "output_type": "stream",
          "name": "stderr",
          "text": [
            "100%|██████████| 57/57 [01:16<00:00,  1.34s/it]\n"
          ]
        },
        {
          "output_type": "stream",
          "name": "stdout",
          "text": [
            "Train Loss : 0.7967694778191415, Test Loss : 0.7150288053921291\n",
            "Epoch 2/5\n"
          ]
        },
        {
          "output_type": "stream",
          "name": "stderr",
          "text": [
            "100%|██████████| 57/57 [01:15<00:00,  1.32s/it]\n"
          ]
        },
        {
          "output_type": "stream",
          "name": "stdout",
          "text": [
            "Train Loss : 0.7546201933894241, Test Loss : 0.7896267260823931\n",
            "Epoch 3/5\n"
          ]
        },
        {
          "output_type": "stream",
          "name": "stderr",
          "text": [
            "100%|██████████| 57/57 [01:14<00:00,  1.31s/it]\n"
          ]
        },
        {
          "output_type": "stream",
          "name": "stdout",
          "text": [
            "Train Loss : 0.7119479127097548, Test Loss : 0.72144729750497\n",
            "Epoch 4/5\n"
          ]
        },
        {
          "output_type": "stream",
          "name": "stderr",
          "text": [
            "100%|██████████| 57/57 [01:17<00:00,  1.36s/it]\n"
          ]
        },
        {
          "output_type": "stream",
          "name": "stdout",
          "text": [
            "Train Loss : 0.6984366450393409, Test Loss : 0.6947180884225028\n",
            "Epoch 5/5\n"
          ]
        },
        {
          "output_type": "stream",
          "name": "stderr",
          "text": [
            "100%|██████████| 57/57 [01:16<00:00,  1.34s/it]\n"
          ]
        },
        {
          "output_type": "stream",
          "name": "stdout",
          "text": [
            "Train Loss : 0.6974164770360578, Test Loss : 0.6972350137574332\n"
          ]
        }
      ]
    }
  ]
}