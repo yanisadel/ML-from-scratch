{
 "cells": [
  {
   "cell_type": "code",
   "execution_count": 2,
   "id": "9357fd8b",
   "metadata": {},
   "outputs": [],
   "source": [
    "import pandas as pd\n",
    "import numpy as np\n",
    "import random\n",
    "from sklearn.tree import DecisionTreeClassifier"
   ]
  },
  {
   "cell_type": "markdown",
   "id": "868bac16",
   "metadata": {},
   "source": [
    "# **1) Model Creation**"
   ]
  },
  {
   "cell_type": "code",
   "execution_count": 13,
   "id": "2d41650f",
   "metadata": {},
   "outputs": [],
   "source": [
    "def loss(x, y):\n",
    "    return np.exp(-x*y)"
   ]
  },
  {
   "cell_type": "code",
   "execution_count": null,
   "id": "defac189",
   "metadata": {},
   "outputs": [],
   "source": [
    "# Only works for a 2-class problem\n",
    "class AdaBoostClassifier:\n",
    "    def __init__(self, n_estimators=50):\n",
    "        self.n_estimators = 50\n",
    "        self.estimator = None\n",
    "        self.base_estimators = []\n",
    "            \n",
    "            \n",
    "    def fit(self, X, y):\n",
    "        n = len(X)\n",
    "        sample_weights = np.full(n, 1/n)\n",
    "        estimator = DecisionTreeClassifier()\n",
    "        estimator.fit(X, y, sample_weights=sample_weights)\n",
    "        \n",
    "        preds = estimator.predict(X)\n",
    "        error = loss(preds, y)\n",
    "        \n",
    "        classifier_weight = np.log((1 - error) / error) / 2\n",
    "        for i in range(n):\n",
    "            if preds[i] == y[i]:\n",
    "                sample_weights[i] *= np.exp(-alpha)\n",
    "            else:\n",
    "                sample_weights[i] *= np.exp(alpha)\n",
    "            \n",
    "        sample_weights /= np.max(sample_weights)"
   ]
  },
  {
   "cell_type": "code",
   "execution_count": 4,
   "id": "40ec2370",
   "metadata": {},
   "outputs": [],
   "source": [
    "a = np.array([1,2,3,4,5])\n",
    "b = np.array([10,11,12,13,45])"
   ]
  },
  {
   "cell_type": "code",
   "execution_count": 15,
   "id": "f333ba4e",
   "metadata": {},
   "outputs": [],
   "source": [
    "a[0] *= 3"
   ]
  },
  {
   "cell_type": "code",
   "execution_count": 16,
   "id": "eb154515",
   "metadata": {},
   "outputs": [
    {
     "data": {
      "text/plain": [
       "array([3, 2, 3, 4, 5])"
      ]
     },
     "execution_count": 16,
     "metadata": {},
     "output_type": "execute_result"
    }
   ],
   "source": [
    "a"
   ]
  },
  {
   "cell_type": "code",
   "execution_count": 14,
   "id": "c6d56095",
   "metadata": {},
   "outputs": [
    {
     "data": {
      "text/plain": [
       "array([4.53999298e-05, 2.78946809e-10, 2.31952283e-16, 2.61027907e-23,\n",
       "       1.92194773e-98])"
      ]
     },
     "execution_count": 14,
     "metadata": {},
     "output_type": "execute_result"
    }
   ],
   "source": [
    "loss(a, b)"
   ]
  }
 ],
 "metadata": {
  "kernelspec": {
   "display_name": "Python 3 (ipykernel)",
   "language": "python",
   "name": "python3"
  },
  "language_info": {
   "codemirror_mode": {
    "name": "ipython",
    "version": 3
   },
   "file_extension": ".py",
   "mimetype": "text/x-python",
   "name": "python",
   "nbconvert_exporter": "python",
   "pygments_lexer": "ipython3",
   "version": "3.9.10"
  }
 },
 "nbformat": 4,
 "nbformat_minor": 5
}
